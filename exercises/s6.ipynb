{
 "cells": [
  {
   "cell_type": "code",
   "execution_count": 14,
   "metadata": {
    "collapsed": true,
    "pycharm": {
     "name": "#%%\n"
    }
   },
   "outputs": [
    {
     "ename": "TypeError",
     "evalue": "a bytes-like object is required, not 'str'",
     "output_type": "error",
     "traceback": [
      "\u001B[0;31m---------------------------------------------------------------------------\u001B[0m",
      "\u001B[0;31mTypeError\u001B[0m                                 Traceback (most recent call last)",
      "Input \u001B[0;32mIn [14]\u001B[0m, in \u001B[0;36m<cell line: 7>\u001B[0;34m()\u001B[0m\n\u001B[1;32m      4\u001B[0m ssids \u001B[38;5;241m=\u001B[39m [\u001B[38;5;124m'\u001B[39m\u001B[38;5;124memilie\u001B[39m\u001B[38;5;124m'\u001B[39m]\n\u001B[1;32m      6\u001B[0m rssi_scanner \u001B[38;5;241m=\u001B[39m rssi\u001B[38;5;241m.\u001B[39mRSSI_Scan(interface)\n\u001B[0;32m----> 7\u001B[0m ap_info \u001B[38;5;241m=\u001B[39m \u001B[43mrssi_scanner\u001B[49m\u001B[38;5;241;43m.\u001B[39;49m\u001B[43mgetAPinfo\u001B[49m\u001B[43m(\u001B[49m\u001B[43msudo\u001B[49m\u001B[38;5;241;43m=\u001B[39;49m\u001B[38;5;28;43;01mTrue\u001B[39;49;00m\u001B[43m)\u001B[49m\n\u001B[1;32m      8\u001B[0m ap_info\n",
      "File \u001B[0;32m~/repos/au-mlr-distributed-and-pervasive-systems/exercises/venv/lib/python3.9/site-packages/rssi/__init__.py:305\u001B[0m, in \u001B[0;36mRSSI_Scan.getAPinfo\u001B[0;34m(self, networks, sudo)\u001B[0m\n\u001B[1;32m    303\u001B[0m raw_scan_output \u001B[38;5;241m=\u001B[39m \u001B[38;5;28mself\u001B[39m\u001B[38;5;241m.\u001B[39mgetRawNetworkScan(sudo)[\u001B[38;5;124m'\u001B[39m\u001B[38;5;124moutput\u001B[39m\u001B[38;5;124m'\u001B[39m] \n\u001B[1;32m    304\u001B[0m \u001B[38;5;66;03m# Parsed access-point listing. Access-points are dictionaries.\u001B[39;00m\n\u001B[0;32m--> 305\u001B[0m all_access_points \u001B[38;5;241m=\u001B[39m \u001B[38;5;28;43mself\u001B[39;49m\u001B[38;5;241;43m.\u001B[39;49m\u001B[43mformatCells\u001B[49m\u001B[43m(\u001B[49m\u001B[43mraw_scan_output\u001B[49m\u001B[43m)\u001B[49m\n\u001B[1;32m    306\u001B[0m \u001B[38;5;66;03m# Checks if access-points were found.\u001B[39;00m\n\u001B[1;32m    307\u001B[0m \u001B[38;5;28;01mif\u001B[39;00m all_access_points:\n\u001B[1;32m    308\u001B[0m     \u001B[38;5;66;03m# Checks if specific networks were declared.\u001B[39;00m\n",
      "File \u001B[0;32m~/repos/au-mlr-distributed-and-pervasive-systems/exercises/venv/lib/python3.9/site-packages/rssi/__init__.py:203\u001B[0m, in \u001B[0;36mRSSI_Scan.formatCells\u001B[0;34m(self, raw_cell_string)\u001B[0m\n\u001B[1;32m    202\u001B[0m \u001B[38;5;28;01mdef\u001B[39;00m \u001B[38;5;21mformatCells\u001B[39m(\u001B[38;5;28mself\u001B[39m, raw_cell_string):\n\u001B[0;32m--> 203\u001B[0m     raw_cells \u001B[38;5;241m=\u001B[39m \u001B[43mraw_cell_string\u001B[49m\u001B[38;5;241;43m.\u001B[39;49m\u001B[43msplit\u001B[49m\u001B[43m(\u001B[49m\u001B[38;5;124;43m'\u001B[39;49m\u001B[38;5;124;43mCell\u001B[39;49m\u001B[38;5;124;43m'\u001B[39;49m\u001B[43m)\u001B[49m \u001B[38;5;66;03m# Divide raw string into raw cells.\u001B[39;00m\n\u001B[1;32m    204\u001B[0m     raw_cells\u001B[38;5;241m.\u001B[39mpop(\u001B[38;5;241m0\u001B[39m) \u001B[38;5;66;03m# Remove unneccesary \"Scan Completed\" message.\u001B[39;00m\n\u001B[1;32m    205\u001B[0m     \u001B[38;5;28;01mif\u001B[39;00m(\u001B[38;5;28mlen\u001B[39m(raw_cells) \u001B[38;5;241m>\u001B[39m \u001B[38;5;241m0\u001B[39m): \u001B[38;5;66;03m# Continue execution, if atleast one network is detected.\u001B[39;00m\n\u001B[1;32m    206\u001B[0m         \u001B[38;5;66;03m# Iterate through raw cells for parsing.\u001B[39;00m\n\u001B[1;32m    207\u001B[0m         \u001B[38;5;66;03m# Array will hold all parsed cells as dictionaries.\u001B[39;00m\n",
      "\u001B[0;31mTypeError\u001B[0m: a bytes-like object is required, not 'str'"
     ]
    }
   ],
   "source": [
    "import rssi\n",
    "\n",
    "interface = 'wlp40s0'\n",
    "ssids = ['emilie']\n",
    "\n",
    "rssi_scanner = rssi.RSSI_Scan(interface)\n",
    "ap_info = rssi_scanner.getAPinfo(sudo=True)\n",
    "ap_info"
   ]
  },
  {
   "cell_type": "code",
   "execution_count": null,
   "outputs": [],
   "source": [],
   "metadata": {
    "collapsed": false,
    "pycharm": {
     "name": "#%%\n"
    }
   }
  }
 ],
 "metadata": {
  "kernelspec": {
   "display_name": "Python 3",
   "language": "python",
   "name": "python3"
  },
  "language_info": {
   "codemirror_mode": {
    "name": "ipython",
    "version": 2
   },
   "file_extension": ".py",
   "mimetype": "text/x-python",
   "name": "python",
   "nbconvert_exporter": "python",
   "pygments_lexer": "ipython2",
   "version": "2.7.6"
  }
 },
 "nbformat": 4,
 "nbformat_minor": 0
}